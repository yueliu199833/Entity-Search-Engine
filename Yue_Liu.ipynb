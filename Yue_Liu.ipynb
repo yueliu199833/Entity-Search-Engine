{
  "cells": [
    {
      "cell_type": "code",
      "execution_count": 275,
      "id": "4661da89-750a-4ea8-b135-8d0958441ebc",
      "metadata": {
        "colab": {
          "base_uri": "https://localhost:8080/"
        },
        "id": "4661da89-750a-4ea8-b135-8d0958441ebc",
        "outputId": "6c7a0302-a276-4a48-81d6-9212b6db3e71"
      },
      "outputs": [
        {
          "output_type": "stream",
          "name": "stdout",
          "text": [
            "       cik_str ticker                                  title\n",
            "0       320193   AAPL                             Apple Inc.\n",
            "1       789019   MSFT                         MICROSOFT CORP\n",
            "2      1652044  GOOGL                          Alphabet Inc.\n",
            "3      1018724   AMZN                         AMAZON COM INC\n",
            "4      1045810   NVDA                            NVIDIA CORP\n",
            "...        ...    ...                                    ...\n",
            "11154  1901799  GSRMW       GSR II Meteora Acquisition Corp.\n",
            "11155  1742927  RVPHW  REVIVA PHARMACEUTICALS HOLDINGS, INC.\n",
            "11156  1853774  MCAFR    Mountain Crest Acquisition Corp. IV\n",
            "11157  1853774  MCAFU    Mountain Crest Acquisition Corp. IV\n",
            "11158  1802457  ORGNW                 Origin Materials, Inc.\n",
            "\n",
            "[11159 rows x 3 columns]\n"
          ]
        }
      ],
      "source": [
        "import requests\n",
        "import pandas as pd\n",
        "import re\n",
        "import numpy as np\n",
        "from fuzzywuzzy import fuzz\n",
        "from thefuzz import fuzz, process\n",
        "from nltk.tokenize import word_tokenize\n",
        "from nltk.stem import SnowballStemmer\n",
        "from nltk.corpus import wordnet\n",
        "import numpy as np\n",
        "\n",
        "resp = requests.get('https://www.sec.gov/files/company_tickers.json')\n",
        "#df= pd.read_json(resp.text)\n",
        "df = pd.read_json(resp.text, orient ='index')\n",
        "\n",
        "print(df)"
      ]
    },
    {
      "cell_type": "code",
      "source": [
        "!pip install fuzzywuzzy\n",
        "!pip install thefuzz"
      ],
      "metadata": {
        "id": "JdXvcZyCUzuJ",
        "colab": {
          "base_uri": "https://localhost:8080/"
        },
        "outputId": "fe2c44a7-c596-4890-95dc-c5a6b70a7c50"
      },
      "id": "JdXvcZyCUzuJ",
      "execution_count": 276,
      "outputs": [
        {
          "output_type": "stream",
          "name": "stdout",
          "text": [
            "Looking in indexes: https://pypi.org/simple, https://us-python.pkg.dev/colab-wheels/public/simple/\n",
            "Requirement already satisfied: fuzzywuzzy in /usr/local/lib/python3.9/dist-packages (0.18.0)\n",
            "Looking in indexes: https://pypi.org/simple, https://us-python.pkg.dev/colab-wheels/public/simple/\n",
            "Requirement already satisfied: thefuzz in /usr/local/lib/python3.9/dist-packages (0.19.0)\n"
          ]
        }
      ]
    },
    {
      "cell_type": "code",
      "source": [
        "# preprocessing data\n",
        "df0 = df.copy()\n",
        "df0['title_0'] = df0['title'].apply(str.lower)\n",
        "df0['title_0'] = df0['title_0'].apply(lambda x: re.sub(r'[^a-zA-Z0-9]+', ' ', x))\n",
        "df0['title_0'] = df0['title_0'].apply(lambda x: re.sub(\"\\s\\s+\", \" \", x))\n",
        "df0['title_0'] = df0['title_0'].apply(lambda x: x.strip())\n",
        "df0['ticker_0'] = df0['ticker'].apply(str.lower)\n",
        "df0['ticker_0'] = df0['ticker_0'].apply(lambda x: re.sub(r'[^a-zA-Z0-9]+', ' ', x))\n",
        "df0['ticker_0'] = df0['ticker_0'].apply(lambda x: re.sub(\"\\s\\s+\", \" \", x))\n",
        "df0['ticker_0'] = df0['ticker_0'].apply(lambda x: x.strip())\n",
        "df0"
      ],
      "metadata": {
        "colab": {
          "base_uri": "https://localhost:8080/",
          "height": 424
        },
        "id": "kpJ5A_WVOS9D",
        "outputId": "17b5456f-4822-4522-a673-08041a863b7e"
      },
      "id": "kpJ5A_WVOS9D",
      "execution_count": 277,
      "outputs": [
        {
          "output_type": "execute_result",
          "data": {
            "text/plain": [
              "       cik_str ticker                                  title  \\\n",
              "0       320193   AAPL                             Apple Inc.   \n",
              "1       789019   MSFT                         MICROSOFT CORP   \n",
              "2      1652044  GOOGL                          Alphabet Inc.   \n",
              "3      1018724   AMZN                         AMAZON COM INC   \n",
              "4      1045810   NVDA                            NVIDIA CORP   \n",
              "...        ...    ...                                    ...   \n",
              "11154  1901799  GSRMW       GSR II Meteora Acquisition Corp.   \n",
              "11155  1742927  RVPHW  REVIVA PHARMACEUTICALS HOLDINGS, INC.   \n",
              "11156  1853774  MCAFR    Mountain Crest Acquisition Corp. IV   \n",
              "11157  1853774  MCAFU    Mountain Crest Acquisition Corp. IV   \n",
              "11158  1802457  ORGNW                 Origin Materials, Inc.   \n",
              "\n",
              "                                   title_0 ticker_0  \n",
              "0                                apple inc     aapl  \n",
              "1                           microsoft corp     msft  \n",
              "2                             alphabet inc    googl  \n",
              "3                           amazon com inc     amzn  \n",
              "4                              nvidia corp     nvda  \n",
              "...                                    ...      ...  \n",
              "11154      gsr ii meteora acquisition corp    gsrmw  \n",
              "11155  reviva pharmaceuticals holdings inc    rvphw  \n",
              "11156   mountain crest acquisition corp iv    mcafr  \n",
              "11157   mountain crest acquisition corp iv    mcafu  \n",
              "11158                 origin materials inc    orgnw  \n",
              "\n",
              "[11159 rows x 5 columns]"
            ],
            "text/html": [
              "\n",
              "  <div id=\"df-833d0062-ae38-4927-9307-42616f45b904\">\n",
              "    <div class=\"colab-df-container\">\n",
              "      <div>\n",
              "<style scoped>\n",
              "    .dataframe tbody tr th:only-of-type {\n",
              "        vertical-align: middle;\n",
              "    }\n",
              "\n",
              "    .dataframe tbody tr th {\n",
              "        vertical-align: top;\n",
              "    }\n",
              "\n",
              "    .dataframe thead th {\n",
              "        text-align: right;\n",
              "    }\n",
              "</style>\n",
              "<table border=\"1\" class=\"dataframe\">\n",
              "  <thead>\n",
              "    <tr style=\"text-align: right;\">\n",
              "      <th></th>\n",
              "      <th>cik_str</th>\n",
              "      <th>ticker</th>\n",
              "      <th>title</th>\n",
              "      <th>title_0</th>\n",
              "      <th>ticker_0</th>\n",
              "    </tr>\n",
              "  </thead>\n",
              "  <tbody>\n",
              "    <tr>\n",
              "      <th>0</th>\n",
              "      <td>320193</td>\n",
              "      <td>AAPL</td>\n",
              "      <td>Apple Inc.</td>\n",
              "      <td>apple inc</td>\n",
              "      <td>aapl</td>\n",
              "    </tr>\n",
              "    <tr>\n",
              "      <th>1</th>\n",
              "      <td>789019</td>\n",
              "      <td>MSFT</td>\n",
              "      <td>MICROSOFT CORP</td>\n",
              "      <td>microsoft corp</td>\n",
              "      <td>msft</td>\n",
              "    </tr>\n",
              "    <tr>\n",
              "      <th>2</th>\n",
              "      <td>1652044</td>\n",
              "      <td>GOOGL</td>\n",
              "      <td>Alphabet Inc.</td>\n",
              "      <td>alphabet inc</td>\n",
              "      <td>googl</td>\n",
              "    </tr>\n",
              "    <tr>\n",
              "      <th>3</th>\n",
              "      <td>1018724</td>\n",
              "      <td>AMZN</td>\n",
              "      <td>AMAZON COM INC</td>\n",
              "      <td>amazon com inc</td>\n",
              "      <td>amzn</td>\n",
              "    </tr>\n",
              "    <tr>\n",
              "      <th>4</th>\n",
              "      <td>1045810</td>\n",
              "      <td>NVDA</td>\n",
              "      <td>NVIDIA CORP</td>\n",
              "      <td>nvidia corp</td>\n",
              "      <td>nvda</td>\n",
              "    </tr>\n",
              "    <tr>\n",
              "      <th>...</th>\n",
              "      <td>...</td>\n",
              "      <td>...</td>\n",
              "      <td>...</td>\n",
              "      <td>...</td>\n",
              "      <td>...</td>\n",
              "    </tr>\n",
              "    <tr>\n",
              "      <th>11154</th>\n",
              "      <td>1901799</td>\n",
              "      <td>GSRMW</td>\n",
              "      <td>GSR II Meteora Acquisition Corp.</td>\n",
              "      <td>gsr ii meteora acquisition corp</td>\n",
              "      <td>gsrmw</td>\n",
              "    </tr>\n",
              "    <tr>\n",
              "      <th>11155</th>\n",
              "      <td>1742927</td>\n",
              "      <td>RVPHW</td>\n",
              "      <td>REVIVA PHARMACEUTICALS HOLDINGS, INC.</td>\n",
              "      <td>reviva pharmaceuticals holdings inc</td>\n",
              "      <td>rvphw</td>\n",
              "    </tr>\n",
              "    <tr>\n",
              "      <th>11156</th>\n",
              "      <td>1853774</td>\n",
              "      <td>MCAFR</td>\n",
              "      <td>Mountain Crest Acquisition Corp. IV</td>\n",
              "      <td>mountain crest acquisition corp iv</td>\n",
              "      <td>mcafr</td>\n",
              "    </tr>\n",
              "    <tr>\n",
              "      <th>11157</th>\n",
              "      <td>1853774</td>\n",
              "      <td>MCAFU</td>\n",
              "      <td>Mountain Crest Acquisition Corp. IV</td>\n",
              "      <td>mountain crest acquisition corp iv</td>\n",
              "      <td>mcafu</td>\n",
              "    </tr>\n",
              "    <tr>\n",
              "      <th>11158</th>\n",
              "      <td>1802457</td>\n",
              "      <td>ORGNW</td>\n",
              "      <td>Origin Materials, Inc.</td>\n",
              "      <td>origin materials inc</td>\n",
              "      <td>orgnw</td>\n",
              "    </tr>\n",
              "  </tbody>\n",
              "</table>\n",
              "<p>11159 rows × 5 columns</p>\n",
              "</div>\n",
              "      <button class=\"colab-df-convert\" onclick=\"convertToInteractive('df-833d0062-ae38-4927-9307-42616f45b904')\"\n",
              "              title=\"Convert this dataframe to an interactive table.\"\n",
              "              style=\"display:none;\">\n",
              "        \n",
              "  <svg xmlns=\"http://www.w3.org/2000/svg\" height=\"24px\"viewBox=\"0 0 24 24\"\n",
              "       width=\"24px\">\n",
              "    <path d=\"M0 0h24v24H0V0z\" fill=\"none\"/>\n",
              "    <path d=\"M18.56 5.44l.94 2.06.94-2.06 2.06-.94-2.06-.94-.94-2.06-.94 2.06-2.06.94zm-11 1L8.5 8.5l.94-2.06 2.06-.94-2.06-.94L8.5 2.5l-.94 2.06-2.06.94zm10 10l.94 2.06.94-2.06 2.06-.94-2.06-.94-.94-2.06-.94 2.06-2.06.94z\"/><path d=\"M17.41 7.96l-1.37-1.37c-.4-.4-.92-.59-1.43-.59-.52 0-1.04.2-1.43.59L10.3 9.45l-7.72 7.72c-.78.78-.78 2.05 0 2.83L4 21.41c.39.39.9.59 1.41.59.51 0 1.02-.2 1.41-.59l7.78-7.78 2.81-2.81c.8-.78.8-2.07 0-2.86zM5.41 20L4 18.59l7.72-7.72 1.47 1.35L5.41 20z\"/>\n",
              "  </svg>\n",
              "      </button>\n",
              "      \n",
              "  <style>\n",
              "    .colab-df-container {\n",
              "      display:flex;\n",
              "      flex-wrap:wrap;\n",
              "      gap: 12px;\n",
              "    }\n",
              "\n",
              "    .colab-df-convert {\n",
              "      background-color: #E8F0FE;\n",
              "      border: none;\n",
              "      border-radius: 50%;\n",
              "      cursor: pointer;\n",
              "      display: none;\n",
              "      fill: #1967D2;\n",
              "      height: 32px;\n",
              "      padding: 0 0 0 0;\n",
              "      width: 32px;\n",
              "    }\n",
              "\n",
              "    .colab-df-convert:hover {\n",
              "      background-color: #E2EBFA;\n",
              "      box-shadow: 0px 1px 2px rgba(60, 64, 67, 0.3), 0px 1px 3px 1px rgba(60, 64, 67, 0.15);\n",
              "      fill: #174EA6;\n",
              "    }\n",
              "\n",
              "    [theme=dark] .colab-df-convert {\n",
              "      background-color: #3B4455;\n",
              "      fill: #D2E3FC;\n",
              "    }\n",
              "\n",
              "    [theme=dark] .colab-df-convert:hover {\n",
              "      background-color: #434B5C;\n",
              "      box-shadow: 0px 1px 3px 1px rgba(0, 0, 0, 0.15);\n",
              "      filter: drop-shadow(0px 1px 2px rgba(0, 0, 0, 0.3));\n",
              "      fill: #FFFFFF;\n",
              "    }\n",
              "  </style>\n",
              "\n",
              "      <script>\n",
              "        const buttonEl =\n",
              "          document.querySelector('#df-833d0062-ae38-4927-9307-42616f45b904 button.colab-df-convert');\n",
              "        buttonEl.style.display =\n",
              "          google.colab.kernel.accessAllowed ? 'block' : 'none';\n",
              "\n",
              "        async function convertToInteractive(key) {\n",
              "          const element = document.querySelector('#df-833d0062-ae38-4927-9307-42616f45b904');\n",
              "          const dataTable =\n",
              "            await google.colab.kernel.invokeFunction('convertToInteractive',\n",
              "                                                     [key], {});\n",
              "          if (!dataTable) return;\n",
              "\n",
              "          const docLinkHtml = 'Like what you see? Visit the ' +\n",
              "            '<a target=\"_blank\" href=https://colab.research.google.com/notebooks/data_table.ipynb>data table notebook</a>'\n",
              "            + ' to learn more about interactive tables.';\n",
              "          element.innerHTML = '';\n",
              "          dataTable['output_type'] = 'display_data';\n",
              "          await google.colab.output.renderOutput(dataTable, element);\n",
              "          const docLink = document.createElement('div');\n",
              "          docLink.innerHTML = docLinkHtml;\n",
              "          element.appendChild(docLink);\n",
              "        }\n",
              "      </script>\n",
              "    </div>\n",
              "  </div>\n",
              "  "
            ]
          },
          "metadata": {},
          "execution_count": 277
        }
      ]
    },
    {
      "cell_type": "code",
      "source": [
        "# partial_ratio can be easily inluenced by small character word and thus have 100 similarity score. Replace ticker with less than 3 character with a random word with lenth 4.\n",
        "df0['ticker_00'] = df0['ticker_0'].apply(lambda x: x if len(x) >3 else \"xyzp\")"
      ],
      "metadata": {
        "id": "urZYpjUBrsqi"
      },
      "id": "urZYpjUBrsqi",
      "execution_count": 278,
      "outputs": []
    },
    {
      "cell_type": "code",
      "source": [
        "df0['Suffix'] = df0['title_0'].str.split().str[-1]"
      ],
      "metadata": {
        "id": "dP4qf_exPtKl"
      },
      "id": "dP4qf_exPtKl",
      "execution_count": 279,
      "outputs": []
    },
    {
      "cell_type": "code",
      "source": [
        "import nltk\n",
        "nltk.download('punkt')"
      ],
      "metadata": {
        "id": "ua1-6c60VzyH",
        "colab": {
          "base_uri": "https://localhost:8080/"
        },
        "outputId": "cae0a57d-3de9-4d1c-cd32-5485dcac6acf"
      },
      "id": "ua1-6c60VzyH",
      "execution_count": 280,
      "outputs": [
        {
          "output_type": "stream",
          "name": "stderr",
          "text": [
            "[nltk_data] Downloading package punkt to /root/nltk_data...\n",
            "[nltk_data]   Package punkt is already up-to-date!\n"
          ]
        },
        {
          "output_type": "execute_result",
          "data": {
            "text/plain": [
              "True"
            ]
          },
          "metadata": {},
          "execution_count": 280
        }
      ]
    },
    {
      "cell_type": "code",
      "source": [
        "companies = set(df0['title_0'].values.tolist())\n",
        "companies = list(companies)\n",
        "company_tokens = [set(word for word in word_tokenize(company)) for company in companies]"
      ],
      "metadata": {
        "id": "RTSOhUOUXOj0"
      },
      "id": "RTSOhUOUXOj0",
      "execution_count": 281,
      "outputs": []
    },
    {
      "cell_type": "code",
      "source": [
        "componyticker = set(df0[\"ticker_0\"].values.tolist())\n",
        "componyticker = list(componyticker1)\n",
        "#companyticker_tokens = set(componyticker)"
      ],
      "metadata": {
        "id": "r4kTjwt9Era6"
      },
      "id": "r4kTjwt9Era6",
      "execution_count": 282,
      "outputs": []
    },
    {
      "cell_type": "markdown",
      "source": [
        "**Fuzzy Matching:**\n",
        "\n",
        "The fuzzywuzzy library provides several methods that use the Levenshtein distance and Jaro-Winkler distance algorithms to compute the similarity between two strings.\n",
        "\n",
        "fuzz.ratio method uses the Levenshtein distance algorithm to calculate the difference between two strings. It computes the ratio of the number of matching characters to the total number of characters in the two strings, expressed as a percentage.\n",
        "\n",
        "fuzz.partial_ratio method uses partial string matching to compute the similarity ratio. It does not use the Levenshtein distance algorithm.\n",
        "\n",
        "fuzz.token_sort_ratio and fuzz.token_set_ratio methods use the Jaro-Winkler distance algorithm to compare tokenized versions of the input strings. fuzz.token_sort_ratio sorts the tokens in each string alphabetically before comparing them, while fuzz.token_set_ratio compares the sets of unique tokens in the two strings.\n",
        "\n",
        "The Jaro-Winkler distance algorithm is a variation of the Jaro distance algorithm, which is used to compare two strings character by character, taking into account both the order and the number of characters that match. The Jaro-Winkler distance algorithm is a modified version of the Jaro distance algorithm that gives more weight to matching characters at the beginning of the strings."
      ],
      "metadata": {
        "id": "00Ulrb_yf2pK"
      },
      "id": "00Ulrb_yf2pK"
    },
    {
      "cell_type": "markdown",
      "source": [
        "partial_ratio works better for case of partial name of the company;\n",
        "\n",
        "token_sort_ratio works better for case of differnt order of tokens for company names\n",
        "\n",
        "token_set_ratio better for case of duplicates tokens "
      ],
      "metadata": {
        "id": "uEppSOMvory2"
      },
      "id": "uEppSOMvory2"
    },
    {
      "cell_type": "markdown",
      "source": [
        "**Tests**"
      ],
      "metadata": {
        "id": "XQy6D_uKMkQ9"
      },
      "id": "XQy6D_uKMkQ9"
    },
    {
      "cell_type": "code",
      "source": [
        "# example\n",
        "s1 = \"Barkshire\"\n",
        "s2 = \"Berkshire Hathaway\"\n",
        "print(fuzz.ratio(s1,s2))\n",
        "print(fuzz.partial_ratio(s1,s2))\n",
        "print(fuzz.token_sort_ratio(s1,s2))"
      ],
      "metadata": {
        "colab": {
          "base_uri": "https://localhost:8080/"
        },
        "id": "zm-vELSeoGVm",
        "outputId": "385ebcb8-8d84-4d8a-93ad-853c4188a64c"
      },
      "id": "zm-vELSeoGVm",
      "execution_count": 393,
      "outputs": [
        {
          "output_type": "stream",
          "name": "stdout",
          "text": [
            "59\n",
            "89\n",
            "59\n"
          ]
        }
      ]
    },
    {
      "cell_type": "code",
      "source": [
        "# example\n",
        "s1 = \"Barkshire\"\n",
        "s2 = \"Berkshire\"\n",
        "print(fuzz.ratio(s1,s2))\n",
        "print(fuzz.partial_ratio(s1,s2))\n",
        "print(fuzz.token_sort_ratio(s1,s2))"
      ],
      "metadata": {
        "colab": {
          "base_uri": "https://localhost:8080/"
        },
        "id": "JVzk4jHPMcx0",
        "outputId": "9809345d-705d-4d49-cbbf-6413cf27f3c1"
      },
      "id": "JVzk4jHPMcx0",
      "execution_count": 394,
      "outputs": [
        {
          "output_type": "stream",
          "name": "stdout",
          "text": [
            "89\n",
            "89\n",
            "89\n"
          ]
        }
      ]
    },
    {
      "cell_type": "code",
      "source": [
        "# example\n",
        "s1 = \"Barkshire Hathaway\"\n",
        "s2 = \"Hathaway something Berkshire\"\n",
        "print(fuzz.ratio(s1,s2))\n",
        "print(fuzz.partial_ratio(s1,s2))\n",
        "print(fuzz.token_sort_ratio(s1,s2))"
      ],
      "metadata": {
        "colab": {
          "base_uri": "https://localhost:8080/"
        },
        "id": "ORqbkqh4oqHb",
        "outputId": "0fd02fe9-b77a-401b-e61f-a6c3b7dbde98"
      },
      "id": "ORqbkqh4oqHb",
      "execution_count": 395,
      "outputs": [
        {
          "output_type": "stream",
          "name": "stdout",
          "text": [
            "35\n",
            "44\n",
            "74\n"
          ]
        }
      ]
    },
    {
      "cell_type": "code",
      "source": [
        "# example\n",
        "s1 = \"Berkshire\"\n",
        "s2 = \"Hathaway Berkshire\"\n",
        "print(fuzz.ratio(s1,s2))\n",
        "print(fuzz.partial_ratio(s1,s2))\n",
        "print(fuzz.token_sort_ratio(s1,s2))"
      ],
      "metadata": {
        "colab": {
          "base_uri": "https://localhost:8080/"
        },
        "id": "laLEB4zVqXF7",
        "outputId": "17cea19d-ad14-48bf-a219-fd323716ffba"
      },
      "id": "laLEB4zVqXF7",
      "execution_count": 396,
      "outputs": [
        {
          "output_type": "stream",
          "name": "stdout",
          "text": [
            "67\n",
            "100\n",
            "67\n"
          ]
        }
      ]
    },
    {
      "cell_type": "code",
      "source": [
        "# example\n",
        "s1 = \"Berkshire Hathaway\"\n",
        "s2 = \"Berkshire something subsidiary ooo\"\n",
        "print(fuzz.ratio(s1,s2))\n",
        "print(fuzz.partial_ratio(s1,s2))\n",
        "print(fuzz.token_sort_ratio(s1,s2))"
      ],
      "metadata": {
        "colab": {
          "base_uri": "https://localhost:8080/"
        },
        "id": "0_OlmaAv_oZp",
        "outputId": "675565a0-a95e-421b-891c-61dcb706cfc3"
      },
      "id": "0_OlmaAv_oZp",
      "execution_count": 400,
      "outputs": [
        {
          "output_type": "stream",
          "name": "stdout",
          "text": [
            "54\n",
            "67\n",
            "54\n"
          ]
        }
      ]
    },
    {
      "cell_type": "markdown",
      "source": [
        "In a word, for fuzzy match, fuzz.token_sort_ratio works better for reverse order of partial word search like \"hat berksh\" than partial_ratio. Thus decided to use maximum score of token_sort_ratio and partial_ratio."
      ],
      "metadata": {
        "id": "4wkhC0fBF9PX"
      },
      "id": "4wkhC0fBF9PX"
    },
    {
      "cell_type": "code",
      "source": [
        "# preprocessing input\n",
        "def process_query(query):\n",
        "  query = query.lower()\n",
        "  query = query.replace('&', ' and ')\n",
        "  query = re.sub(r'[^a-zA-Z0-9]+', ' ', query)\n",
        "  query = re.sub(\"\\s\\s+\", ' ', query).strip()\n",
        "\n",
        "  # remove any stopwors like the, a, an\n",
        "  # Load the stopwords\n",
        "  stop_words = set(stopwords.words('english'))\n",
        "  words = query.split()\n",
        "  filtered_words = [word for word in words if word.lower() not in stop_words]\n",
        "  # Convert the filtered words back to a string\n",
        "  filtered_text = ' '.join(filtered_words)\n",
        "  return filtered_text"
      ],
      "metadata": {
        "id": "707whpWxU7_U"
      },
      "id": "707whpWxU7_U",
      "execution_count": 283,
      "outputs": []
    },
    {
      "cell_type": "code",
      "source": [
        "def search_fuzz_ticker(query, num_results, threshold): \n",
        "  query = process_query(query)\n",
        "  l1 = process.extract(query,componyticker,limit = num_results, scorer = fuzz.ratio)\n",
        "  l2 = process.extract(query,componyticker,limit = num_results, scorer = fuzz.token_sort_ratio)\n",
        "  l3 =  process.extract(query,companies,limit = num_results, scorer = fuzz.partial_ratio)\n",
        "  l4 = process.extract(query,companies,limit = num_results, scorer = fuzz.token_sort_ratio)\n",
        "  ls0 = l1+l2+l3+l4\n",
        "  ls0.sort(key = lambda x: x[1], reverse = True) \n",
        "\n",
        "  name = ls0[:num_results]\n",
        "  ls = []\n",
        "  for i in range(0,len(name)):\n",
        "    if name[i][1] >threshold:\n",
        "      ls.append(name[i][0])\n",
        "    # creating filters of bool series from isin()\n",
        "  filter1 = df0[\"ticker_0\"].isin(ls)\n",
        "  filter2 = df0[\"title_0\"].isin(ls)\n",
        "  \n",
        "  # displaying data with both filter applied and mandatory \n",
        "  df =df0[filter1 | filter2]\n",
        "  #return\n",
        "  return set(df['title'])"
      ],
      "metadata": {
        "id": "aoBMJ4ZIbs8C"
      },
      "id": "aoBMJ4ZIbs8C",
      "execution_count": 284,
      "outputs": []
    },
    {
      "cell_type": "markdown",
      "source": [
        "## **Conclusion**\n",
        "\n",
        "This search engine is going to take an input and return X number of similar or matching entities depending on threshold and require number of output.\n",
        "\n",
        "If the user are certain of input, he or she can set the threshold to be high and required number of output being low and thus get an exact match. \n",
        "\n",
        "If the user are not certain of input, he or she can set the threshold to be low and required number of output being high and thus get an exact match. \n",
        "\n",
        "The whole search engine is designed based on Levenshtein distance, Jaro-Winkler distance algorithms and partial string matching on ticker and title of companies.\n"
      ],
      "metadata": {
        "id": "HVcpNzg69tqI"
      },
      "id": "HVcpNzg69tqI"
    },
    {
      "cell_type": "markdown",
      "source": [
        "## **Scenarios that this search system should be able to handle:**\n"
      ],
      "metadata": {
        "id": "t5vhWZ0o-41r"
      },
      "id": "t5vhWZ0o-41r"
    },
    {
      "cell_type": "markdown",
      "source": [
        "**1. Typo**"
      ],
      "metadata": {
        "id": "yDsBeAAd_KEA"
      },
      "id": "yDsBeAAd_KEA"
    },
    {
      "cell_type": "code",
      "source": [
        "search_fuzz_ticker('berkshire..  .. ', 5, 80)"
      ],
      "metadata": {
        "colab": {
          "base_uri": "https://localhost:8080/"
        },
        "id": "L5Y48dIX-8SD",
        "outputId": "15f0d905-1c94-49a0-d14c-f7891255d2b1"
      },
      "id": "L5Y48dIX-8SD",
      "execution_count": 285,
      "outputs": [
        {
          "output_type": "execute_result",
          "data": {
            "text/plain": [
              "{'BERKSHIRE HATHAWAY INC',\n",
              " 'BERKSHIRE HILLS BANCORP INC',\n",
              " 'Berkshire Grey, Inc.'}"
            ]
          },
          "metadata": {},
          "execution_count": 285
        }
      ]
    },
    {
      "cell_type": "code",
      "source": [
        "search_fuzz_ticker('barkshire', 5, 80)"
      ],
      "metadata": {
        "colab": {
          "base_uri": "https://localhost:8080/"
        },
        "id": "m3pN8itA_Nv3",
        "outputId": "7205be05-975b-4a7e-8811-4e1c0cd463c0"
      },
      "id": "m3pN8itA_Nv3",
      "execution_count": 286,
      "outputs": [
        {
          "output_type": "execute_result",
          "data": {
            "text/plain": [
              "{'BERKSHIRE HATHAWAY INC',\n",
              " 'BERKSHIRE HILLS BANCORP INC',\n",
              " 'Berkshire Grey, Inc.'}"
            ]
          },
          "metadata": {},
          "execution_count": 286
        }
      ]
    },
    {
      "cell_type": "markdown",
      "source": [
        "**2. Partial Search**"
      ],
      "metadata": {
        "id": "ZwhMy7PTDekQ"
      },
      "id": "ZwhMy7PTDekQ"
    },
    {
      "cell_type": "code",
      "source": [
        "search_fuzz_ticker('berk', 5, 80)"
      ],
      "metadata": {
        "colab": {
          "base_uri": "https://localhost:8080/"
        },
        "id": "NYh0MEw7DXCl",
        "outputId": "eedfaeb6-346e-47e3-cbfc-7317a85ed755"
      },
      "id": "NYh0MEw7DXCl",
      "execution_count": 287,
      "outputs": [
        {
          "output_type": "execute_result",
          "data": {
            "text/plain": [
              "{'BERKLEY W R CORP',\n",
              " 'BERKSHIRE HATHAWAY INC',\n",
              " 'BERKSHIRE HILLS BANCORP INC',\n",
              " 'Berkeley Group Holdings plc',\n",
              " 'Berkshire Grey, Inc.'}"
            ]
          },
          "metadata": {},
          "execution_count": 287
        }
      ]
    },
    {
      "cell_type": "code",
      "source": [
        "search_fuzz_ticker('berkshire something', 5, 50)"
      ],
      "metadata": {
        "colab": {
          "base_uri": "https://localhost:8080/"
        },
        "id": "Zpg9SDG_GDbh",
        "outputId": "cff9b8ba-28c3-4807-89b2-a6b01ffec187"
      },
      "id": "Zpg9SDG_GDbh",
      "execution_count": 288,
      "outputs": [
        {
          "output_type": "execute_result",
          "data": {
            "text/plain": [
              "{'BERKSHIRE HATHAWAY INC',\n",
              " 'BERKSHIRE HILLS BANCORP INC',\n",
              " 'Berkshire Grey, Inc.'}"
            ]
          },
          "metadata": {},
          "execution_count": 288
        }
      ]
    },
    {
      "cell_type": "markdown",
      "source": [
        "**3. Ticker or abbreviation**"
      ],
      "metadata": {
        "id": "yMHACp4gDjN7"
      },
      "id": "yMHACp4gDjN7"
    },
    {
      "cell_type": "code",
      "source": [
        "search_fuzz_ticker('google', 5, 80)"
      ],
      "metadata": {
        "colab": {
          "base_uri": "https://localhost:8080/"
        },
        "id": "UqW_JByf_O-S",
        "outputId": "9d809ec0-e555-4ef5-fd10-979dcdc9ce8a"
      },
      "id": "UqW_JByf_O-S",
      "execution_count": 289,
      "outputs": [
        {
          "output_type": "execute_result",
          "data": {
            "text/plain": [
              "{'Alphabet Inc.'}"
            ]
          },
          "metadata": {},
          "execution_count": 289
        }
      ]
    },
    {
      "cell_type": "code",
      "source": [
        "search_fuzz_ticker('ibm', 5, 80)"
      ],
      "metadata": {
        "colab": {
          "base_uri": "https://localhost:8080/"
        },
        "id": "uoz2ezGeSsM4",
        "outputId": "13d1f8c0-e761-4323-ba72-67f49ef33e09"
      },
      "id": "uoz2ezGeSsM4",
      "execution_count": 290,
      "outputs": [
        {
          "output_type": "execute_result",
          "data": {
            "text/plain": [
              "{'INTERNATIONAL BUSINESS MACHINES CORP'}"
            ]
          },
          "metadata": {},
          "execution_count": 290
        }
      ]
    },
    {
      "cell_type": "markdown",
      "source": [
        "**4. Input with subsidiary names**"
      ],
      "metadata": {
        "id": "cRkIliN9OKdC"
      },
      "id": "cRkIliN9OKdC"
    },
    {
      "cell_type": "code",
      "source": [
        "search_fuzz_ticker('Berkshire something subsidiary ooo', 5, 50)"
      ],
      "metadata": {
        "id": "xpdlPiWUOJlx",
        "colab": {
          "base_uri": "https://localhost:8080/"
        },
        "outputId": "17b40df6-8f98-4320-970a-be8d952fdf40"
      },
      "id": "xpdlPiWUOJlx",
      "execution_count": 291,
      "outputs": [
        {
          "output_type": "execute_result",
          "data": {
            "text/plain": [
              "{'BERKSHIRE HATHAWAY INC',\n",
              " 'BOEING CO',\n",
              " 'Berkshire Grey, Inc.',\n",
              " 'HERSHEY CO',\n",
              " 'HireQuest, Inc.'}"
            ]
          },
          "metadata": {},
          "execution_count": 291
        }
      ]
    },
    {
      "cell_type": "markdown",
      "source": [
        "# **Testing & Evaluation**\n",
        "\n",
        "1. **Recall**\n",
        "\n",
        "Without knowing context of the search, we are hard to know what users are actually search for, thus making it hard to label which output is true positive and false negative. With default of 5 output and 80 similarity score threshold, we can see from the examples above the output is quite relevant with the input. \n",
        "\n",
        "2. **Precision**(pair *quality*)\n",
        "\n",
        "Instead, precision is a better metric than recall, becase we can manually label out of predicted matching entity, what percentage is possiblely related to the input. \n",
        "\n",
        "2. **Confidence score** \n",
        "\n",
        "Confidence score is calculated by the mixture of partial string matching and Jaro-Winkler distance. Not using Levenshtein distance because through tests, it has low similarity score for partial search. "
      ],
      "metadata": {
        "id": "wMwVlH87GQLY"
      },
      "id": "wMwVlH87GQLY"
    },
    {
      "cell_type": "markdown",
      "source": [
        "# **Additional Thoughts:**\n",
        "\n",
        "1. In addition to the metrics mentioned above, we can also consider incorporating user feedback to improve the relevance of the returned entities. You can collect user feedback using click-through rates, bounce rates, or other metrics and use this feedback to fine-tune your search engine.\n",
        "\n",
        "2. Due to nature of the dataset from one data source, most company names are unique, not much of company have shared words and unkown ground truth name. When there are large datasets from multiple sources, we should consider using blocking to cluster similar company names together for entity matching. By doing so, the complexity of pariwide comparisons is reduced from O(n^2), n being the number of records, to O(K*B^2), k being the number of blocks and B being the size of the block. The goal would be maximize the distance between cluster and mninimazie distance within clusters. This could be done by word embedding like n-gram character embedding and nearest neighbour search Faiss.\n",
        "\n",
        "3. To improve the system's performance, consider using more advanced NLP techniques like named entity recognition or part-of-speech tagging to identify company names in the input query if the input is a description of companies rather than a keyword. For dealing with ambiguity, Spacy entity linking can be a good method to deal with it.\n",
        "\n",
        "4. Implementation and deployment: Consider integrating the system with a web or mobile application to make it accessible to users."
      ],
      "metadata": {
        "id": "cC3r1lQNLPab"
      },
      "id": "cC3r1lQNLPab"
    }
  ],
  "metadata": {
    "kernelspec": {
      "display_name": "Python 3 (ipykernel)",
      "language": "python",
      "name": "python3"
    },
    "language_info": {
      "codemirror_mode": {
        "name": "ipython",
        "version": 3
      },
      "file_extension": ".py",
      "mimetype": "text/x-python",
      "name": "python",
      "nbconvert_exporter": "python",
      "pygments_lexer": "ipython3",
      "version": "3.9.12"
    },
    "colab": {
      "provenance": []
    }
  },
  "nbformat": 4,
  "nbformat_minor": 5
}